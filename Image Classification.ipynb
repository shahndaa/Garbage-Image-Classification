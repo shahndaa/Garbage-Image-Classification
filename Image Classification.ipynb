{
 "cells": [
  {
   "cell_type": "code",
   "execution_count": 1,
   "id": "d9665776",
   "metadata": {},
   "outputs": [],
   "source": [
    "import os\n",
    "import numpy as np\n",
    "import tensorflow as tf\n",
    "from PIL import Image\n",
    "from sklearn.model_selection import train_test_split\n",
    "import matplotlib.pyplot as plt\n",
    "from tensorflow.keras import layers, models\n",
    "from collections import Counter\n",
    "from tensorflow.keras.layers import Dense"
   ]
  },
  {
   "cell_type": "code",
   "execution_count": 2,
   "id": "e18045c2",
   "metadata": {},
   "outputs": [],
   "source": [
    "def load_images(root_dir, img_size=(224, 224)):\n",
    "    X, y = [], []\n",
    "    class_counts = Counter()\n",
    "\n",
    "    class_mapping = {\n",
    "        'cardboard': 1,\n",
    "        'glass': 1,\n",
    "        'metal': 1,\n",
    "        'plastic': 1,\n",
    "        'paper': 1,\n",
    "        'trash': 0\n",
    "    }\n",
    "    for category in ['recyclable', 'non_recyclable']:\n",
    "        category_path = os.path.join(root_dir, category)\n",
    "\n",
    "        for subfolder in os.listdir(category_path):\n",
    "            subfolder_path = os.path.join(category_path, subfolder)\n",
    "            if not os.path.isdir(subfolder_path):\n",
    "                continue\n",
    "                \n",
    "            material = subfolder.lower()\n",
    "            label = class_mapping.get(material, 0 if category == 'non_recyclable' else 1)\n",
    "            \n",
    "            for file in os.listdir(subfolder_path):\n",
    "                if file.lower().endswith(('.jpg', '.jpeg', '.png')):\n",
    "                    img_path = os.path.join(subfolder_path, file)\n",
    "                    try:\n",
    "                        img = Image.open(img_path).convert('RGB').resize(img_size)\n",
    "                        X.append(np.array(img))\n",
    "                        y.append(label)\n",
    "                        class_counts[material] += 1\n",
    "                    except Exception as e:\n",
    "                        print(f\"Error loading {img_path}: {e}\")\n",
    "    print(\"\\nClass distribution:\")\n",
    "    for cls, count in class_counts.items():\n",
    "        print(f\"{cls}: {count} images\")\n",
    "    \n",
    "    return np.array(X), np.array(y)"
   ]
  },
  {
   "cell_type": "code",
   "execution_count": 3,
   "id": "9c8b9045",
   "metadata": {},
   "outputs": [
    {
     "name": "stdout",
     "output_type": "stream",
     "text": [
      "\n",
      "Class distribution:\n",
      "cardboard: 403 images\n",
      "glass: 501 images\n",
      "metal: 410 images\n",
      "paper: 594 images\n",
      "plastic: 482 images\n",
      "trash: 137 images\n",
      "\n",
      "Total loaded images: 2527\n",
      "\n",
      "Class weights: {0: 9.222627737226277, 1: 0.5286610878661088}\n"
     ]
    }
   ],
   "source": [
    "X, y = load_images(\"E:/Codes/Garbage Classification/dataset-resized\")\n",
    "print(f\"\\nTotal loaded images: {len(X)}\")\n",
    "\n",
    "class_counts = np.bincount(y)\n",
    "total = len(y)\n",
    "class_weights = {0: total/(2*class_counts[0]), 1: total/(2*class_counts[1])}\n",
    "print(f\"\\nClass weights: {class_weights}\")"
   ]
  },
  {
   "cell_type": "code",
   "execution_count": 4,
   "id": "4dcba410",
   "metadata": {},
   "outputs": [],
   "source": [
    "X_train, X_val, y_train, y_val = train_test_split(\n",
    "    X, y, \n",
    "    test_size=0.2, \n",
    "    random_state=42, \n",
    "    stratify=y\n",
    ")"
   ]
  },
  {
   "cell_type": "code",
   "execution_count": 5,
   "id": "29cff735",
   "metadata": {},
   "outputs": [],
   "source": [
    "def preprocess(image, label):\n",
    "    image = tf.cast(image, tf.float32)\n",
    "    image = tf.keras.applications.mobilenet_v2.preprocess_input(image)\n",
    "    return image, label"
   ]
  },
  {
   "cell_type": "code",
   "execution_count": 6,
   "id": "415be29f",
   "metadata": {},
   "outputs": [],
   "source": [
    "def augment(image, label):\n",
    "    image = tf.cast(image, tf.float32)\n",
    "    \n",
    "    image = tf.image.random_flip_left_right(image)\n",
    "    image = tf.image.random_flip_up_down(image)\n",
    "    \n",
    "    if tf.random.uniform(()) > 0.5:\n",
    "        k = tf.random.uniform(shape=[], minval=0, maxval=4, dtype=tf.int32)\n",
    "        image = tf.image.rot90(image, k=k)\n",
    "    \n",
    "    image = tf.image.random_brightness(image, max_delta=32.)\n",
    "    image = tf.image.random_contrast(image, lower=0.9, upper=1.1)\n",
    "    image = tf.image.random_saturation(image, lower=0.9, upper=1.1)\n",
    "    image = tf.image.random_hue(image, max_delta=0.04)\n",
    "    \n",
    "    if tf.random.uniform(()) > 0.5:\n",
    "        h = tf.shape(image)[0]\n",
    "        w = tf.shape(image)[1]\n",
    "        c = tf.shape(image)[2]\n",
    "        \n",
    "        zoom_factor = tf.random.uniform(shape=[], minval=0.8, maxval=1.0)\n",
    "        h_new = tf.cast(tf.cast(h, tf.float32) * zoom_factor, tf.int32)\n",
    "        w_new = tf.cast(tf.cast(w, tf.float32) * zoom_factor, tf.int32)\n",
    "        \n",
    "        size = tf.stack([h_new, w_new, c])\n",
    "        image = tf.image.random_crop(image, size=size)\n",
    "        image = tf.image.resize(image, size=[h, w])\n",
    "    \n",
    "    image = tf.clip_by_value(image, 0., 255.)\n",
    "    image = tf.cast(image, tf.uint8)\n",
    "    \n",
    "    return image, label"
   ]
  },
  {
   "cell_type": "code",
   "execution_count": 7,
   "id": "5fd0cbd8",
   "metadata": {},
   "outputs": [],
   "source": [
    "train_ds = tf.data.Dataset.from_tensor_slices((X_train, y_train))\n",
    "val_ds = tf.data.Dataset.from_tensor_slices((X_val, y_val))\n",
    "\n",
    "train_ds = (train_ds\n",
    "            .shuffle(1000, reshuffle_each_iteration=True)\n",
    "            .map(augment, num_parallel_calls=tf.data.AUTOTUNE)\n",
    "            .map(preprocess, num_parallel_calls=tf.data.AUTOTUNE)\n",
    "            .batch(32)\n",
    "            .prefetch(tf.data.AUTOTUNE))\n",
    "val_ds = (val_ds\n",
    "          .map(preprocess, num_parallel_calls=tf.data.AUTOTUNE)\n",
    "          .batch(32)\n",
    "          .prefetch(tf.data.AUTOTUNE))"
   ]
  },
  {
   "cell_type": "code",
   "execution_count": 8,
   "id": "3135c3ad",
   "metadata": {},
   "outputs": [],
   "source": [
    "base_model = tf.keras.applications.MobileNetV2(\n",
    "    input_shape=(224, 224, 3),\n",
    "    include_top=False,\n",
    "    weights='imagenet',\n",
    "    pooling='avg'\n",
    ")\n",
    "base_model.trainable = False\n",
    "\n",
    "inputs = tf.keras.Input(shape=(224, 224, 3))\n",
    "x = base_model(inputs, training=False)\n",
    "x = layers.Dense(256, activation='relu')(x)\n",
    "x = layers.Dropout(0.5)(x)\n",
    "num_classes = 6\n",
    "outputs = Dense(num_classes, activation='softmax')(x)\n",
    "model = tf.keras.Model(inputs, outputs)"
   ]
  },
  {
   "cell_type": "code",
   "execution_count": 9,
   "id": "c917a867",
   "metadata": {},
   "outputs": [],
   "source": [
    "model.compile(optimizer='adam',\n",
    "              loss='sparse_categorical_crossentropy',\n",
    "              metrics=['accuracy'])\n",
    "\n",
    "callbacks = [\n",
    "    tf.keras.callbacks.EarlyStopping(patience=3, restore_best_weights=True),\n",
    "    tf.keras.callbacks.ReduceLROnPlateau(factor=0.1, patience=2)\n",
    "]"
   ]
  },
  {
   "cell_type": "code",
   "execution_count": 10,
   "id": "410ba20d",
   "metadata": {},
   "outputs": [
    {
     "name": "stdout",
     "output_type": "stream",
     "text": [
      "Epoch 1/15\n",
      "64/64 [==============================] - 303s 5s/step - loss: 0.9516 - accuracy: 0.7006 - val_loss: 0.4525 - val_accuracy: 0.8162 - lr: 0.0010\n",
      "Epoch 2/15\n",
      "64/64 [==============================] - 359s 6s/step - loss: 0.4111 - accuracy: 0.8506 - val_loss: 0.4496 - val_accuracy: 0.8043 - lr: 0.0010\n",
      "Epoch 3/15\n",
      "64/64 [==============================] - 270s 4s/step - loss: 0.3932 - accuracy: 0.8595 - val_loss: 0.4281 - val_accuracy: 0.7964 - lr: 0.0010\n",
      "Epoch 4/15\n",
      "64/64 [==============================] - 278s 4s/step - loss: 0.2880 - accuracy: 0.8699 - val_loss: 0.1881 - val_accuracy: 0.9308 - lr: 0.0010\n",
      "Epoch 5/15\n",
      "64/64 [==============================] - 329s 5s/step - loss: 0.2461 - accuracy: 0.8981 - val_loss: 0.1471 - val_accuracy: 0.9427 - lr: 0.0010\n",
      "Epoch 6/15\n",
      "64/64 [==============================] - 276s 4s/step - loss: 0.2380 - accuracy: 0.9124 - val_loss: 0.3343 - val_accuracy: 0.8518 - lr: 0.0010\n",
      "Epoch 7/15\n",
      "64/64 [==============================] - 271s 4s/step - loss: 0.2214 - accuracy: 0.8981 - val_loss: 0.4458 - val_accuracy: 0.7984 - lr: 0.0010\n",
      "Epoch 8/15\n",
      "64/64 [==============================] - 278s 4s/step - loss: 0.1981 - accuracy: 0.8951 - val_loss: 0.2210 - val_accuracy: 0.9071 - lr: 1.0000e-04\n"
     ]
    }
   ],
   "source": [
    "history = model.fit(\n",
    "    train_ds,\n",
    "    validation_data=val_ds,\n",
    "    epochs=15,\n",
    "    class_weight=class_weights,\n",
    "    callbacks=callbacks\n",
    ")"
   ]
  },
  {
   "cell_type": "code",
   "execution_count": 12,
   "id": "8644ba7c",
   "metadata": {},
   "outputs": [
    {
     "name": "stdout",
     "output_type": "stream",
     "text": [
      "Epoch 1/10\n",
      "64/64 [==============================] - 458s 7s/step - loss: 0.2243 - accuracy: 0.9055 - val_loss: 0.2090 - val_accuracy: 0.9269 - lr: 1.0000e-05\n",
      "Epoch 2/10\n",
      "64/64 [==============================] - 428s 7s/step - loss: 0.2042 - accuracy: 0.9208 - val_loss: 0.1845 - val_accuracy: 0.9328 - lr: 1.0000e-05\n",
      "Epoch 3/10\n",
      "64/64 [==============================] - 423s 7s/step - loss: 0.1845 - accuracy: 0.9332 - val_loss: 0.2328 - val_accuracy: 0.9071 - lr: 1.0000e-05\n",
      "Epoch 4/10\n",
      "64/64 [==============================] - 414s 6s/step - loss: 0.1395 - accuracy: 0.9421 - val_loss: 0.1440 - val_accuracy: 0.9447 - lr: 1.0000e-05\n",
      "Epoch 5/10\n",
      "64/64 [==============================] - 424s 7s/step - loss: 0.1120 - accuracy: 0.9530 - val_loss: 0.1457 - val_accuracy: 0.9486 - lr: 1.0000e-05\n",
      "Epoch 6/10\n",
      "64/64 [==============================] - 465s 7s/step - loss: 0.1230 - accuracy: 0.9510 - val_loss: 0.1637 - val_accuracy: 0.9447 - lr: 1.0000e-05\n",
      "Epoch 7/10\n",
      "64/64 [==============================] - 454s 7s/step - loss: 0.0976 - accuracy: 0.9604 - val_loss: 0.1501 - val_accuracy: 0.9447 - lr: 1.0000e-06\n"
     ]
    }
   ],
   "source": [
    "base_model.trainable = True\n",
    "for layer in base_model.layers[:100]:\n",
    "    layer.trainable = False\n",
    "\n",
    "model.compile(\n",
    "    optimizer=tf.keras.optimizers.Adam(learning_rate=0.00001),\n",
    "    loss='sparse_categorical_crossentropy',\n",
    "    metrics=['accuracy']\n",
    ")\n",
    "\n",
    "history_fine = model.fit(\n",
    "    train_ds,\n",
    "    validation_data=val_ds,\n",
    "    epochs=10,\n",
    "    class_weight=class_weights,\n",
    "    callbacks=callbacks\n",
    ")"
   ]
  },
  {
   "cell_type": "code",
   "execution_count": 13,
   "id": "88748088",
   "metadata": {},
   "outputs": [
    {
     "name": "stdout",
     "output_type": "stream",
     "text": [
      "\n",
      "📊 Training plots saved as 'training_plots.png'\n"
     ]
    },
    {
     "data": {
      "image/png": "[encoded data removed]",
      "text/plain": [
       "<Figure size 1200x500 with 2 Axes>"
      ]
     },
     "metadata": {},
     "output_type": "display_data"
    }
   ],
   "source": [
    "plt.figure(figsize=(12, 5))\n",
    "plt.subplot(1, 2, 1)\n",
    "plt.plot(history.history['accuracy'] + history_fine.history['accuracy'], label='Train Acc')\n",
    "plt.plot(history.history['val_accuracy'] + history_fine.history['val_accuracy'], label='Val Acc')\n",
    "plt.xlabel('Epoch')\n",
    "plt.ylabel('Accuracy')\n",
    "plt.title('Training and Validation Accuracy')\n",
    "plt.legend()\n",
    "\n",
    "plt.subplot(1, 2, 2)\n",
    "plt.plot(history.history['loss'] + history_fine.history['loss'], label='Train Loss')\n",
    "plt.plot(history.history['val_loss'] + history_fine.history['val_loss'], label='Val Loss')\n",
    "plt.xlabel('Epoch')\n",
    "plt.ylabel('Loss')\n",
    "plt.title('Training and Validation Loss')\n",
    "plt.legend()\n",
    "\n",
    "plt.tight_layout()\n",
    "plt.savefig(\"training_plots.png\")\n",
    "print(\"\\n📊 Training plots saved as 'training_plots.png'\")\n",
    "plt.show()"
   ]
  },
  {
   "cell_type": "code",
   "execution_count": 16,
   "id": "b5be33cd",
   "metadata": {},
   "outputs": [
    {
     "name": "stdout",
     "output_type": "stream",
     "text": [
      "Label shape: (32,)\n"
     ]
    }
   ],
   "source": [
    "for images, labels in val_ds.take(1):\n",
    "    print(\"Label shape:\", labels.shape)"
   ]
  },
  {
   "cell_type": "code",
   "execution_count": 20,
   "id": "aa8abab7",
   "metadata": {},
   "outputs": [
    {
     "name": "stdout",
     "output_type": "stream",
     "text": [
      "Label shape: (32,)\n",
      "Label values: [1 0 1 0 1 1 1 1 1 1 1 1 1 1 1 1 1 1 1 1 1 1 1 1 1 1 1 0 1 1 1 1]\n",
      "1/1 [==============================] - 8s 8s/step\n",
      "Prediction shape: (32, 6)\n"
     ]
    }
   ],
   "source": [
    "sample = next(iter(val_ds))\n",
    "print(\"Label shape:\", sample[1].shape)\n",
    "print(\"Label values:\", sample[1].numpy())\n",
    "\n",
    "print(\"Prediction shape:\", model.predict(sample[0]).shape)"
   ]
  },
  {
   "cell_type": "code",
   "execution_count": 22,
   "id": "75e0c002",
   "metadata": {},
   "outputs": [
    {
     "name": "stdout",
     "output_type": "stream",
     "text": [
      "Model saved successfully\n",
      "\n",
      "Final Evaluation:\n",
      "Validation Accuracy: 0.9447\n",
      "Validation Precision: 0.9447\n",
      "Validation Recall: 0.9447\n"
     ]
    }
   ],
   "source": [
    "import tensorflow as tf\n",
    "from tensorflow.keras import metrics\n",
    "import numpy as np\n",
    "\n",
    "model.save(\"recycle_classifier_optimized.h5\")\n",
    "print(\"Model saved successfully\")\n",
    "\n",
    "class MultiClassEvaluator:\n",
    "    def __init__(self):\n",
    "        self.accuracy = metrics.SparseCategoricalAccuracy()\n",
    "        self.precision = metrics.Precision()\n",
    "        self.recall = metrics.Recall()\n",
    "        \n",
    "    def update_state(self, y_true, y_pred):\n",
    "        y_pred_labels = tf.argmax(y_pred, axis=-1)\n",
    "        \n",
    "        self.accuracy.update_state(y_true, y_pred)\n",
    "        \n",
    "        y_true_onehot = tf.one_hot(y_true, depth=6)\n",
    "        y_pred_onehot = tf.one_hot(y_pred_labels, depth=6)\n",
    "        \n",
    "        self.precision.update_state(y_true_onehot, y_pred_onehot)\n",
    "        self.recall.update_state(y_true_onehot, y_pred_onehot)\n",
    "    \n",
    "    def get_metrics(self):\n",
    "        return {\n",
    "            'accuracy': self.accuracy.result().numpy(),\n",
    "            'precision': self.precision.result().numpy(),\n",
    "            'recall': self.recall.result().numpy()\n",
    "        }\n",
    "\n",
    "def evaluate_model(model, dataset):\n",
    "    evaluator = MultiClassEvaluator()\n",
    "    \n",
    "    for images, labels in dataset:\n",
    "        predictions = model.predict(images, verbose=0)\n",
    "        evaluator.update_state(labels, predictions)\n",
    "    \n",
    "    metrics = evaluator.get_metrics()\n",
    "    return metrics\n",
    "\n",
    "print(\"\\nFinal Evaluation:\")\n",
    "metrics = evaluate_model(model, val_ds)\n",
    "\n",
    "print(f\"Validation Accuracy: {metrics['accuracy']:.4f}\")\n",
    "print(f\"Validation Precision: {metrics['precision']:.4f}\")\n",
    "print(f\"Validation Recall: {metrics['recall']:.4f}\")"
   ]
  },
  {
   "cell_type": "code",
   "execution_count": 25,
   "id": "dfb6a75d",
   "metadata": {},
   "outputs": [],
   "source": [
    "def predict_garbage(image_path, model, threshold=0.5):\n",
    "\n",
    "    class_names = {\n",
    "        0: 'cardboard',\n",
    "        1: 'glass',\n",
    "        2: 'metal',\n",
    "        3: 'paper',\n",
    "        4: 'plastic',\n",
    "        5: 'trash'\n",
    "    }\n",
    "    DISPOSAL_GUIDE = {\n",
    "        'cardboard': 'Flatten and remove tape',\n",
    "        'glass': 'Rinse and remove lids',\n",
    "        'metal': 'Clean cans before recycling',\n",
    "        'paper': 'Keep dry and remove staples',\n",
    "        'plastic': 'Check resin code (#1-7) and rinse',\n",
    "        'trash': 'Place in general waste bin'\n",
    "    }\n",
    "    try:\n",
    "        img = Image.open(image_path).convert('RGB').resize((224, 224))\n",
    "        img_array = np.array(img)\n",
    "        img_array = tf.keras.applications.mobilenet_v2.preprocess_input(img_array)\n",
    "        img_array = np.expand_dims(img_array, axis=0)\n",
    "\n",
    "        predictions = model.predict(img_array)[0]\n",
    "        class_idx = np.argmax(predictions)\n",
    "        confidence = float(predictions[class_idx])\n",
    "        material = class_names[class_idx]\n",
    "\n",
    "        result = {\n",
    "            'material': material,\n",
    "            'confidence': confidence,\n",
    "            'disposal': DISPOSAL_GUIDE[material],\n",
    "            'is_recyclable': material != 'trash'\n",
    "        }\n",
    "\n",
    "        print(\"\\nPrediction Results:\")\n",
    "        print(f\"Material: {material.upper()}\")\n",
    "        print(f\"Confidence: {confidence*100:.1f}%\")\n",
    "        print(f\"Class: {'RECYCLABLE' if result['is_recyclable'] else 'TRASH'}\")\n",
    "        print(\"\\nProper Disposal:\" , \"Dispose according to local guidelines\")\n",
    "        print(result['disposal'])\n",
    "\n",
    "    except Exception as e:\n",
    "        error_msg = f\"Error: {str(e)}\"\n",
    "        print(error_msg)\n",
    "        return {'error': error_msg}"
   ]
  },
  {
   "cell_type": "code",
   "execution_count": 26,
   "id": "a5b671a9",
   "metadata": {},
   "outputs": [
    {
     "name": "stdout",
     "output_type": "stream",
     "text": [
      "1/1 [==============================] - 0s 390ms/step\n",
      "\n",
      "Prediction Results:\n",
      "Material: CARDBOARD\n",
      "Confidence: 84.3%\n",
      "Class: RECYCLABLE\n",
      "\n",
      "Proper Disposal: Dispose according to local guidelines\n",
      "Flatten and remove tape\n"
     ]
    }
   ],
   "source": [
    "dataset_predicted = predict_garbage(\"E:/Codes/Garbage Classification/dataset-resized/non_recyclable/trash/trash87.jpg\"\n",
    "                    , model)\n",
    "dataset_predicted"
   ]
  },
  {
   "cell_type": "code",
   "execution_count": 27,
   "id": "d67f21a5",
   "metadata": {},
   "outputs": [
    {
     "name": "stdout",
     "output_type": "stream",
     "text": [
      "1/1 [==============================] - 0s 149ms/step\n",
      "\n",
      "Prediction Results:\n",
      "Material: GLASS\n",
      "Confidence: 98.9%\n",
      "Class: RECYCLABLE\n",
      "\n",
      "Proper Disposal: Dispose according to local guidelines\n",
      "Rinse and remove lids\n"
     ]
    }
   ],
   "source": [
    "dataset_predicted = predict_garbage(\"E:/Codes/Garbage Classification/dataset-resized/recyclable/plastic/plastic14.jpg\"\n",
    "                    , model)\n",
    "dataset_predicted"
   ]
  },
  {
   "cell_type": "code",
   "execution_count": 28,
   "id": "5e547da1",
   "metadata": {},
   "outputs": [
    {
     "name": "stdout",
     "output_type": "stream",
     "text": [
      "1/1 [==============================] - 0s 126ms/step\n",
      "\n",
      "Prediction Results:\n",
      "Material: GLASS\n",
      "Confidence: 99.9%\n",
      "Class: RECYCLABLE\n",
      "\n",
      "Proper Disposal: Dispose according to local guidelines\n",
      "Rinse and remove lids\n"
     ]
    }
   ],
   "source": [
    "dataset_predicted = predict_garbage(\"E:/Codes/Garbage Classification/glass-bottle-or-jar.jpg\"\n",
    "                    , model)\n",
    "dataset_predicted"
   ]
  },
  {
   "cell_type": "code",
   "execution_count": 29,
   "id": "949409c3",
   "metadata": {},
   "outputs": [],
   "source": [
    "def interactive_prediction(model):\n",
    "    print(\"\\nAdvanced Garbage Classifier\")\n",
    "    print(\"Enter image path or 'quit' to exit\")\n",
    "    \n",
    "    while True:\n",
    "        try:\n",
    "            image_path = input(\"\\nImage path: \").strip().strip('\"').strip(\"'\")\n",
    "        \n",
    "            if image_path.lower() in ('quit', 'exit', 'q'):\n",
    "                print(\"Exiting classifier...\")\n",
    "                break\n",
    "            \n",
    "            if not os.path.exists(image_path):\n",
    "                print(\"Error: File not found\")\n",
    "                continue\n",
    "            \n",
    "            result = predict_garbage(image_path, model)\n",
    "        \n",
    "            if 'error' in result:\n",
    "                print(f\"Prediction Error: {result['error']}\")\n",
    "            else:\n",
    "                print(\"\\n=== Prediction Result ===\")\n",
    "                print(f\"Classification: {result['class']}\")\n",
    "                print(f\"Material Type: {result['material'].upper()}\")\n",
    "                print(f\"Confidence: {result['confidence']*100:.1f}%\")\n",
    "                print(\"\\nDisposal Instructions:\")\n",
    "                print(result['proper_disposal'])\n",
    "            \n",
    "        except Exception as e:\n",
    "            print(f\"Unexpected error: {str(e)}\")\n",
    "            print(\"Please try another image or check the file format.\")"
   ]
  },
  {
   "cell_type": "code",
   "execution_count": 30,
   "id": "9c6872ba",
   "metadata": {},
   "outputs": [
    {
     "name": "stdout",
     "output_type": "stream",
     "text": [
      "\n",
      "Advanced Garbage Classifier\n",
      "Enter image path or 'quit' to exit\n",
      "1/1 [==============================] - 0s 122ms/step\n",
      "\n",
      "Prediction Results:\n",
      "Material: GLASS\n",
      "Confidence: 99.9%\n",
      "Class: RECYCLABLE\n",
      "\n",
      "Proper Disposal: Dispose according to local guidelines\n",
      "Rinse and remove lids\n",
      "Unexpected error: argument of type 'NoneType' is not iterable\n",
      "Please try another image or check the file format.\n",
      "Exiting classifier...\n"
     ]
    }
   ],
   "source": [
    "interactive_prediction(model)"
   ]
  },
  {
   "cell_type": "code",
   "execution_count": 37,
   "id": "0171cc1c",
   "metadata": {},
   "outputs": [
    {
     "name": "stdout",
     "output_type": "stream",
     "text": [
      "Model loaded\n",
      "\n",
      "Classification: RECYCLABLE\n",
      "Material: glass\n",
      "Confidence: 98.9%\n",
      "Disposal: Rinse and remove lids\n",
      "\n"
     ]
    }
   ],
   "source": [
    "from tensorflow.keras.models import load_model\n",
    "from tensorflow.keras import metrics\n",
    "from PIL import Image\n",
    "import numpy as np\n",
    "import tensorflow as tf\n",
    "\n",
    "class MultiClassMetrics(metrics.Metric):\n",
    "    def __init__(self, name='multiclass_metrics', **kwargs):\n",
    "        super().__init__(name=name, **kwargs)\n",
    "        self.acc = metrics.SparseCategoricalAccuracy(name='accuracy')\n",
    "        self.prec = metrics.Precision(name='precision')\n",
    "        self.rec = metrics.Recall(name='recall')\n",
    "        \n",
    "    def update_state(self, y_true, y_pred, sample_weight=None):\n",
    "        y_pred_labels = tf.argmax(y_pred, axis=-1)\n",
    "        y_true_onehot = tf.one_hot(y_true, depth=6)\n",
    "        y_pred_onehot = tf.one_hot(y_pred_labels, depth=6)\n",
    "        self.acc.update_state(y_true, y_pred)\n",
    "        self.prec.update_state(y_true_onehot, y_pred_onehot)\n",
    "        self.rec.update_state(y_true_onehot, y_pred_onehot)\n",
    "    \n",
    "    def result(self):\n",
    "        return [self.acc.result(), self.prec.result(), self.rec.result()]\n",
    "\n",
    "try:\n",
    "    model = load_model('recycle_classifier_optimized.h5', custom_objects={'MultiClassMetrics': MultiClassMetrics})\n",
    "    print(\"Model loaded\")\n",
    "except Exception as e:\n",
    "    print(f\"Load error: {str(e)}\")\n",
    "    exit()\n",
    "\n",
    "def predict(image_path):\n",
    "    try:\n",
    "        img = Image.open(image_path).convert('RGB').resize((224, 224))\n",
    "        img_array = tf.keras.applications.mobilenet_v2.preprocess_input(np.expand_dims(np.array(img), axis=0))\n",
    "        pred = model.predict(img_array, verbose=0)[0]\n",
    "        class_idx = np.argmax(pred)\n",
    "        materials = ['cardboard', 'glass', 'metal', 'paper', 'plastic', 'trash']\n",
    "        disposal = {\n",
    "            'cardboard': 'Flatten and remove tape',\n",
    "            'glass': 'Rinse and remove lids',\n",
    "            'metal': 'Clean cans before recycling',\n",
    "            'paper': 'Keep dry and remove staples',\n",
    "            'plastic': 'Check resin code (#1-7) and rinse',\n",
    "            'trash': 'General waste bin'\n",
    "        }\n",
    "        return {\n",
    "            'class': 'RECYCLABLE' if materials[class_idx] != 'trash' else 'TRASH',\n",
    "            'material': materials[class_idx],\n",
    "            'confidence': float(pred[class_idx]),\n",
    "            'disposal': disposal.get(materials[class_idx], 'Check local guidelines')\n",
    "        }\n",
    "    except Exception as e:\n",
    "        return {'error': str(e)}\n",
    "\n",
    "result = predict(\"E:/Codes/Garbage Classification/dataset-resized/recyclable/plastic/plastic14.jpg\")\n",
    "print(f\"\"\"\n",
    "Classification: {result['class']}\n",
    "Material: {result['material']}\n",
    "Confidence: {result['confidence']*100:.1f}%\n",
    "Disposal: {result['disposal']}\n",
    "\"\"\")"
   ]
  },
  {
   "cell_type": "code",
   "execution_count": 38,
   "id": "4294ad25",
   "metadata": {},
   "outputs": [
    {
     "name": "stdout",
     "output_type": "stream",
     "text": [
      "Model loaded successfully\n",
      "\n",
      "Classification: RECYCLABLE\n",
      "Material: glass\n",
      "Confidence: 98.9%\n",
      "Disposal: Rinse and remove lids\n",
      "\n"
     ]
    }
   ],
   "source": [
    "from tensorflow.keras.models import load_model\n",
    "from tensorflow.keras import metrics\n",
    "from PIL import Image\n",
    "import numpy as np\n",
    "import tensorflow as tf\n",
    "\n",
    "class MultiClassMetrics(metrics.Metric):\n",
    "    def __init__(self, name='multiclass_metrics', **kwargs):\n",
    "        super().__init__(name=name, **kwargs)\n",
    "        self.acc = metrics.SparseCategoricalAccuracy(name='accuracy')\n",
    "        self.prec = metrics.Precision(name='precision')\n",
    "        self.rec = metrics.Recall(name='recall')\n",
    "        \n",
    "    def update_state(self, y_true, y_pred, sample_weight=None):\n",
    "        y_pred_labels = tf.argmax(y_pred, axis=-1)\n",
    "        y_true_onehot = tf.one_hot(y_true, depth=6)\n",
    "        y_pred_onehot = tf.one_hot(y_pred_labels, depth=6)\n",
    "        self.acc.update_state(y_true, y_pred)\n",
    "        self.prec.update_state(y_true_onehot, y_pred_onehot)\n",
    "        self.rec.update_state(y_true_onehot, y_pred_onehot)\n",
    "    \n",
    "    def result(self):\n",
    "        return [self.acc.result(), self.prec.result(), self.rec.result()]\n",
    "\n",
    "try:\n",
    "    model = load_model('recycle_classifier_optimized.h5', custom_objects={'MultiClassMetrics': MultiClassMetrics})\n",
    "    print(\"Model loaded successfully\")\n",
    "except Exception as e:\n",
    "    print(f\"Model loading failed: {str(e)}\")\n",
    "    exit()\n",
    "\n",
    "def predict(image_path):\n",
    "    try:\n",
    "        img = Image.open(image_path).convert('RGB').resize((224, 224))\n",
    "        img_array = tf.keras.applications.mobilenet_v2.preprocess_input(np.expand_dims(np.array(img), axis=0))\n",
    "        pred = model.predict(img_array, verbose=0)[0]\n",
    "        class_idx = np.argmax(pred)\n",
    "        materials = ['cardboard', 'glass', 'metal', 'paper', 'plastic', 'trash']\n",
    "        disposal_guide = {\n",
    "            'cardboard': 'Flatten and remove tape',\n",
    "            'glass': 'Rinse and remove lids',\n",
    "            'metal': 'Clean cans before recycling',\n",
    "            'paper': 'Keep dry and remove staples',\n",
    "            'plastic': 'Check resin code (#1-7) and rinse',\n",
    "            'trash': 'General waste bin'\n",
    "        }\n",
    "        return {\n",
    "            'class': 'RECYCLABLE' if materials[class_idx] != 'trash' else 'TRASH',\n",
    "            'material': materials[class_idx],\n",
    "            'confidence': float(pred[class_idx]),\n",
    "            'disposal': disposal_guide.get(materials[class_idx], 'Check local guidelines')\n",
    "        }\n",
    "    except Exception as e:\n",
    "        print(f\"Prediction error: {str(e)}\")\n",
    "        return None\n",
    "\n",
    "result = predict(\"E:/Codes/Garbage Classification/dataset-resized/recyclable/plastic/plastic14.jpg\")\n",
    "if result:\n",
    "    print(f\"\"\"\n",
    "Classification: {result['class']}\n",
    "Material: {result['material']}\n",
    "Confidence: {result['confidence']*100:.1f}%\n",
    "Disposal: {result['disposal']}\n",
    "\"\"\")\n",
    "else:\n",
    "    print(\"Prediction failed - check error message above\")"
   ]
  },
  {
   "cell_type": "code",
   "execution_count": 40,
   "id": "6e2bb74d",
   "metadata": {},
   "outputs": [
    {
     "name": "stdout",
     "output_type": "stream",
     "text": [
      "1/1 [==============================] - 0s 305ms/step\n",
      "Raw predictions: [[1.0933237e-02 9.8905164e-01 4.2954243e-06 5.7287539e-06 1.3047850e-06\n",
      "  3.8234839e-06]]\n",
      "Predicted class index: 1\n",
      "Confidence: 0.98905164\n"
     ]
    }
   ],
   "source": [
    "import numpy as np\n",
    "from PIL import Image\n",
    "import tensorflow as tf\n",
    "\n",
    "# Load test image\n",
    "img = Image.open(\"E:/Codes/Garbage Classification/dataset-resized/recyclable/plastic/plastic14.jpg\").convert('RGB').resize((224, 224))\n",
    "img_array = tf.keras.applications.mobilenet_v2.preprocess_input(np.expand_dims(np.array(img), axis=0))\n",
    "\n",
    "# Get raw predictions\n",
    "raw_pred = model.predict(img_array)\n",
    "print(\"Raw predictions:\", raw_pred)\n",
    "print(\"Predicted class index:\", np.argmax(raw_pred))\n",
    "print(\"Confidence:\", np.max(raw_pred))"
   ]
  },
  {
   "cell_type": "code",
   "execution_count": 41,
   "id": "ccb4e369",
   "metadata": {},
   "outputs": [
    {
     "name": "stdout",
     "output_type": "stream",
     "text": [
      "Predicted material: glass\n"
     ]
    }
   ],
   "source": [
    "class_names = ['cardboard', 'glass', 'metal', 'paper', 'plastic', 'trash']\n",
    "print(\"Predicted material:\", class_names[np.argmax(raw_pred)])"
   ]
  },
  {
   "cell_type": "code",
   "execution_count": 42,
   "id": "5271a71a",
   "metadata": {},
   "outputs": [
    {
     "name": "stdout",
     "output_type": "stream",
     "text": [
      "Image array stats:\n",
      "Min: -1.0\n",
      "Max: 0.9843137\n",
      "Mean: 0.38694534\n",
      "Shape: (1, 224, 224, 3)\n"
     ]
    }
   ],
   "source": [
    "print(\"Image array stats:\")\n",
    "print(\"Min:\", np.min(img_array))\n",
    "print(\"Max:\", np.max(img_array))\n",
    "print(\"Mean:\", np.mean(img_array))\n",
    "print(\"Shape:\", img_array.shape)"
   ]
  },
  {
   "cell_type": "code",
   "execution_count": 47,
   "id": "90363255",
   "metadata": {},
   "outputs": [
    {
     "name": "stdout",
     "output_type": "stream",
     "text": [
      "1/1 [==============================] - 0s 167ms/step\n",
      "\n",
      "E:/Codes/Garbage Classification/dataset-resized/recyclable/plastic/plastic14.jpg (True: plastic)\n",
      "Predicted: glass (98.91%)\n",
      "All class confidences:\n",
      "- cardboard: 1.09%\n",
      "- glass: 98.91%\n",
      "- metal: 0.00%\n",
      "- paper: 0.00%\n",
      "- plastic: 0.00%\n",
      "- trash: 0.00%\n",
      "1/1 [==============================] - 0s 175ms/step\n",
      "\n",
      "E:/Codes/Garbage Classification/dataset-resized/recyclable/glass/glass17.jpg (True: glass)\n",
      "Predicted: glass (99.79%)\n",
      "All class confidences:\n",
      "- cardboard: 0.20%\n",
      "- glass: 99.79%\n",
      "- metal: 0.00%\n",
      "- paper: 0.00%\n",
      "- plastic: 0.00%\n",
      "- trash: 0.00%\n",
      "1/1 [==============================] - 0s 229ms/step\n",
      "\n",
      "E:/Codes/Garbage Classification/dataset-resized/recyclable/metal/metal19.jpg (True: metal)\n",
      "Predicted: glass (99.97%)\n",
      "All class confidences:\n",
      "- cardboard: 0.03%\n",
      "- glass: 99.97%\n",
      "- metal: 0.00%\n",
      "- paper: 0.00%\n",
      "- plastic: 0.00%\n",
      "- trash: 0.00%\n",
      "1/1 [==============================] - 0s 117ms/step\n",
      "\n",
      "E:/Codes/Garbage Classification/dataset-resized/non_recyclable/trash/trash31.jpg (True: trash)\n",
      "Predicted: cardboard (90.86%)\n",
      "All class confidences:\n",
      "- cardboard: 90.86%\n",
      "- glass: 9.12%\n",
      "- metal: 0.00%\n",
      "- paper: 0.01%\n",
      "- plastic: 0.00%\n",
      "- trash: 0.00%\n"
     ]
    }
   ],
   "source": [
    "test_images = {\n",
    "    'plastic': \"E:/Codes/Garbage Classification/dataset-resized/recyclable/plastic/plastic14.jpg\",\n",
    "    'glass': \"E:/Codes/Garbage Classification/dataset-resized/recyclable/glass/glass17.jpg\",\n",
    "    'metal': \"E:/Codes/Garbage Classification/dataset-resized/recyclable/metal/metal19.jpg\",\n",
    "    'trash': \"E:/Codes/Garbage Classification/dataset-resized/non_recyclable/trash/trash31.jpg\"\n",
    "}\n",
    "\n",
    "for true_class, path in test_images.items():\n",
    "    try:\n",
    "        img = Image.open(path).convert('RGB').resize((224, 224))\n",
    "        img_array = tf.keras.applications.mobilenet_v2.preprocess_input(np.expand_dims(np.array(img), axis=0))\n",
    "        pred = model.predict(img_array)\n",
    "        predicted_class = class_names[np.argmax(pred)]\n",
    "        confidence = np.max(pred)\n",
    "        print(f\"\\n{path} (True: {true_class})\")\n",
    "        print(f\"Predicted: {predicted_class} ({confidence:.2%})\")\n",
    "        print(\"All class confidences:\")\n",
    "        for name, conf in zip(class_names, pred[0]):\n",
    "            print(f\"- {name}: {conf:.2%}\")\n",
    "    except Exception as e:\n",
    "        print(f\"Error testing {path}: {str(e)}\")"
   ]
  },
  {
   "cell_type": "code",
   "execution_count": 48,
   "id": "c784958e",
   "metadata": {},
   "outputs": [
    {
     "name": "stdout",
     "output_type": "stream",
     "text": [
      "Class distribution:\n",
      "trash: 137 images\n",
      "cardboard: 403 images\n",
      "glass: 501 images\n",
      "metal: 410 images\n",
      "paper: 594 images\n",
      "plastic: 482 images\n"
     ]
    }
   ],
   "source": [
    "import os\n",
    "from collections import Counter\n",
    "\n",
    "dataset_path = \"E:/Codes/Garbage Classification/dataset-resized\"\n",
    "class_counts = Counter()\n",
    "\n",
    "for root, dirs, files in os.walk(dataset_path):\n",
    "    if os.path.basename(root) in ['cardboard', 'glass', 'metal', 'paper', 'plastic', 'trash']:\n",
    "        class_counts[os.path.basename(root)] += len(files)\n",
    "\n",
    "print(\"Class distribution:\")\n",
    "for cls, count in class_counts.items():\n",
    "    print(f\"{cls}: {count} images\")"
   ]
  }
 ],
 "metadata": {
  "kernelspec": {
   "display_name": "base",
   "language": "python",
   "name": "python3"
  },
  "language_info": {
   "codemirror_mode": {
    "name": "ipython",
    "version": 3
   },
   "file_extension": ".py",
   "mimetype": "text/x-python",
   "name": "python",
   "nbconvert_exporter": "python",
   "pygments_lexer": "ipython3",
   "version": "3.11.3"
  }
 },
 "nbformat": 4,
 "nbformat_minor": 5
}
